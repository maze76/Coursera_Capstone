{
 "cells": [
  {
   "cell_type": "markdown",
   "metadata": {},
   "source": [
    "# Part I - Segmenting and Clustering Neighborhoods in Toronto"
   ]
  },
  {
   "cell_type": "markdown",
   "metadata": {},
   "source": [
    "## In this assignment we have to create pandas dataframe from the table of the Torronto post codes, borroughs and neighborhoods located on wikipedia web page"
   ]
  },
  {
   "cell_type": "code",
   "execution_count": 1,
   "metadata": {},
   "outputs": [],
   "source": [
    "#first we have to import needed libraries\n",
    "from bs4 import BeautifulSoup\n",
    "import requests\n",
    "import pandas as pd\n",
    "import numpy as np"
   ]
  },
  {
   "cell_type": "markdown",
   "metadata": {},
   "source": [
    "### First we have to scrape table from the web page with requests and BeautifulSoup python libraries"
   ]
  },
  {
   "cell_type": "code",
   "execution_count": 2,
   "metadata": {},
   "outputs": [],
   "source": [
    "#using requests library in order to get web page that I need and Beautiful Soup library to parse from that web page\n",
    "source = requests.get('https://en.wikipedia.org/wiki/List_of_postal_codes_of_Canada:_M').text\n",
    "soup = BeautifulSoup(source, 'lxml') #parser is lxml"
   ]
  },
  {
   "cell_type": "code",
   "execution_count": 3,
   "metadata": {},
   "outputs": [],
   "source": [
    "#print(soup.prettify()) #prettify method is used to get identations of the code like on the real HTML page"
   ]
  },
  {
   "cell_type": "code",
   "execution_count": 4,
   "metadata": {},
   "outputs": [],
   "source": [
    "#parse table from the whole web page\n",
    "table = soup.find('table', class_='wikitable sortable')\n",
    "#print(table.prettify())"
   ]
  },
  {
   "cell_type": "code",
   "execution_count": 5,
   "metadata": {},
   "outputs": [
    {
     "data": {
      "text/plain": [
       "289"
      ]
     },
     "execution_count": 5,
     "metadata": {},
     "output_type": "execute_result"
    }
   ],
   "source": [
    "#in HTML 'tr' is the tag for table rows\n",
    "table_rows = table.find_all('tr')\n",
    "len(table_rows)"
   ]
  },
  {
   "cell_type": "code",
   "execution_count": 6,
   "metadata": {},
   "outputs": [
    {
     "data": {
      "text/plain": [
       "[[],\n",
       " ['M1A', 'Not assigned', 'Not assigned'],\n",
       " ['M2A', 'Not assigned', 'Not assigned'],\n",
       " ['M3A', 'North York', 'Parkwoods'],\n",
       " ['M4A', 'North York', 'Victoria Village'],\n",
       " ['M5A', 'Downtown Toronto', 'Harbourfront'],\n",
       " ['M5A', 'Downtown Toronto', 'Regent Park'],\n",
       " ['M6A', 'North York', 'Lawrence Heights'],\n",
       " ['M6A', 'North York', 'Lawrence Manor'],\n",
       " ['M7A', \"Queen's Park\", 'Not assigned'],\n",
       " ['M8A', 'Not assigned', 'Not assigned'],\n",
       " ['M9A', 'Etobicoke', 'Islington Avenue'],\n",
       " ['M1B', 'Scarborough', 'Rouge'],\n",
       " ['M1B', 'Scarborough', 'Malvern'],\n",
       " ['M2B', 'Not assigned', 'Not assigned'],\n",
       " ['M3B', 'North York', 'Don Mills North'],\n",
       " ['M4B', 'East York', 'Woodbine Gardens'],\n",
       " ['M4B', 'East York', 'Parkview Hill'],\n",
       " ['M5B', 'Downtown Toronto', 'Ryerson'],\n",
       " ['M5B', 'Downtown Toronto', 'Garden District'],\n",
       " ['M6B', 'North York', 'Glencairn'],\n",
       " ['M7B', 'Not assigned', 'Not assigned'],\n",
       " ['M8B', 'Not assigned', 'Not assigned'],\n",
       " ['M9B', 'Etobicoke', 'Cloverdale'],\n",
       " ['M9B', 'Etobicoke', 'Islington'],\n",
       " ['M9B', 'Etobicoke', 'Martin Grove'],\n",
       " ['M9B', 'Etobicoke', 'Princess Gardens'],\n",
       " ['M9B', 'Etobicoke', 'West Deane Park'],\n",
       " ['M1C', 'Scarborough', 'Highland Creek'],\n",
       " ['M1C', 'Scarborough', 'Rouge Hill'],\n",
       " ['M1C', 'Scarborough', 'Port Union'],\n",
       " ['M2C', 'Not assigned', 'Not assigned'],\n",
       " ['M3C', 'North York', 'Flemingdon Park'],\n",
       " ['M3C', 'North York', 'Don Mills South'],\n",
       " ['M4C', 'East York', 'Woodbine Heights'],\n",
       " ['M5C', 'Downtown Toronto', 'St. James Town'],\n",
       " ['M6C', 'York', 'Humewood-Cedarvale'],\n",
       " ['M7C', 'Not assigned', 'Not assigned'],\n",
       " ['M8C', 'Not assigned', 'Not assigned'],\n",
       " ['M9C', 'Etobicoke', 'Bloordale Gardens'],\n",
       " ['M9C', 'Etobicoke', 'Eringate'],\n",
       " ['M9C', 'Etobicoke', 'Markland Wood'],\n",
       " ['M9C', 'Etobicoke', 'Old Burnhamthorpe'],\n",
       " ['M1E', 'Scarborough', 'Guildwood'],\n",
       " ['M1E', 'Scarborough', 'Morningside'],\n",
       " ['M1E', 'Scarborough', 'West Hill'],\n",
       " ['M2E', 'Not assigned', 'Not assigned'],\n",
       " ['M3E', 'Not assigned', 'Not assigned'],\n",
       " ['M4E', 'East Toronto', 'The Beaches'],\n",
       " ['M5E', 'Downtown Toronto', 'Berczy Park'],\n",
       " ['M6E', 'York', 'Caledonia-Fairbanks'],\n",
       " ['M7E', 'Not assigned', 'Not assigned'],\n",
       " ['M8E', 'Not assigned', 'Not assigned'],\n",
       " ['M9E', 'Not assigned', 'Not assigned'],\n",
       " ['M1G', 'Scarborough', 'Woburn'],\n",
       " ['M2G', 'Not assigned', 'Not assigned'],\n",
       " ['M3G', 'Not assigned', 'Not assigned'],\n",
       " ['M4G', 'East York', 'Leaside'],\n",
       " ['M5G', 'Downtown Toronto', 'Central Bay Street'],\n",
       " ['M6G', 'Downtown Toronto', 'Christie'],\n",
       " ['M7G', 'Not assigned', 'Not assigned'],\n",
       " ['M8G', 'Not assigned', 'Not assigned'],\n",
       " ['M9G', 'Not assigned', 'Not assigned'],\n",
       " ['M1H', 'Scarborough', 'Cedarbrae'],\n",
       " ['M2H', 'North York', 'Hillcrest Village'],\n",
       " ['M3H', 'North York', 'Bathurst Manor'],\n",
       " ['M3H', 'North York', 'Downsview North'],\n",
       " ['M3H', 'North York', 'Wilson Heights'],\n",
       " ['M4H', 'East York', 'Thorncliffe Park'],\n",
       " ['M5H', 'Downtown Toronto', 'Adelaide'],\n",
       " ['M5H', 'Downtown Toronto', 'King'],\n",
       " ['M5H', 'Downtown Toronto', 'Richmond'],\n",
       " ['M6H', 'West Toronto', 'Dovercourt Village'],\n",
       " ['M6H', 'West Toronto', 'Dufferin'],\n",
       " ['M7H', 'Not assigned', 'Not assigned'],\n",
       " ['M8H', 'Not assigned', 'Not assigned'],\n",
       " ['M9H', 'Not assigned', 'Not assigned'],\n",
       " ['M1J', 'Scarborough', 'Scarborough Village'],\n",
       " ['M2J', 'North York', 'Fairview'],\n",
       " ['M2J', 'North York', 'Henry Farm'],\n",
       " ['M2J', 'North York', 'Oriole'],\n",
       " ['M3J', 'North York', 'Northwood Park'],\n",
       " ['M3J', 'North York', 'York University'],\n",
       " ['M4J', 'East York', 'East Toronto'],\n",
       " ['M5J', 'Downtown Toronto', 'Harbourfront East'],\n",
       " ['M5J', 'Downtown Toronto', 'Toronto Islands'],\n",
       " ['M5J', 'Downtown Toronto', 'Union Station'],\n",
       " ['M6J', 'West Toronto', 'Little Portugal'],\n",
       " ['M6J', 'West Toronto', 'Trinity'],\n",
       " ['M7J', 'Not assigned', 'Not assigned'],\n",
       " ['M8J', 'Not assigned', 'Not assigned'],\n",
       " ['M9J', 'Not assigned', 'Not assigned'],\n",
       " ['M1K', 'Scarborough', 'East Birchmount Park'],\n",
       " ['M1K', 'Scarborough', 'Ionview'],\n",
       " ['M1K', 'Scarborough', 'Kennedy Park'],\n",
       " ['M2K', 'North York', 'Bayview Village'],\n",
       " ['M3K', 'North York', 'CFB Toronto'],\n",
       " ['M3K', 'North York', 'Downsview East'],\n",
       " ['M4K', 'East Toronto', 'The Danforth West'],\n",
       " ['M4K', 'East Toronto', 'Riverdale'],\n",
       " ['M5K', 'Downtown Toronto', 'Design Exchange'],\n",
       " ['M5K', 'Downtown Toronto', 'Toronto Dominion Centre'],\n",
       " ['M6K', 'West Toronto', 'Brockton'],\n",
       " ['M6K', 'West Toronto', 'Exhibition Place'],\n",
       " ['M6K', 'West Toronto', 'Parkdale Village'],\n",
       " ['M7K', 'Not assigned', 'Not assigned'],\n",
       " ['M8K', 'Not assigned', 'Not assigned'],\n",
       " ['M9K', 'Not assigned', 'Not assigned'],\n",
       " ['M1L', 'Scarborough', 'Clairlea'],\n",
       " ['M1L', 'Scarborough', 'Golden Mile'],\n",
       " ['M1L', 'Scarborough', 'Oakridge'],\n",
       " ['M2L', 'North York', 'Silver Hills'],\n",
       " ['M2L', 'North York', 'York Mills'],\n",
       " ['M3L', 'North York', 'Downsview West'],\n",
       " ['M4L', 'East Toronto', 'The Beaches West'],\n",
       " ['M4L', 'East Toronto', 'India Bazaar'],\n",
       " ['M5L', 'Downtown Toronto', 'Commerce Court'],\n",
       " ['M5L', 'Downtown Toronto', 'Victoria Hotel'],\n",
       " ['M6L', 'North York', 'Downsview'],\n",
       " ['M6L', 'North York', 'North Park'],\n",
       " ['M6L', 'North York', 'Upwood Park'],\n",
       " ['M7L', 'Not assigned', 'Not assigned'],\n",
       " ['M8L', 'Not assigned', 'Not assigned'],\n",
       " ['M9L', 'North York', 'Humber Summit'],\n",
       " ['M1M', 'Scarborough', 'Cliffcrest'],\n",
       " ['M1M', 'Scarborough', 'Cliffside'],\n",
       " ['M1M', 'Scarborough', 'Scarborough Village West'],\n",
       " ['M2M', 'North York', 'Newtonbrook'],\n",
       " ['M2M', 'North York', 'Willowdale'],\n",
       " ['M3M', 'North York', 'Downsview Central'],\n",
       " ['M4M', 'East Toronto', 'Studio District'],\n",
       " ['M5M', 'North York', 'Bedford Park'],\n",
       " ['M5M', 'North York', 'Lawrence Manor East'],\n",
       " ['M6M', 'York', 'Del Ray'],\n",
       " ['M6M', 'York', 'Keelesdale'],\n",
       " ['M6M', 'York', 'Mount Dennis'],\n",
       " ['M6M', 'York', 'Silverthorn'],\n",
       " ['M7M', 'Not assigned', 'Not assigned'],\n",
       " ['M8M', 'Not assigned', 'Not assigned'],\n",
       " ['M9M', 'North York', 'Emery'],\n",
       " ['M9M', 'North York', 'Humberlea'],\n",
       " ['M1N', 'Scarborough', 'Birch Cliff'],\n",
       " ['M1N', 'Scarborough', 'Cliffside West'],\n",
       " ['M2N', 'North York', 'Willowdale South'],\n",
       " ['M3N', 'North York', 'Downsview Northwest'],\n",
       " ['M4N', 'Central Toronto', 'Lawrence Park'],\n",
       " ['M5N', 'Central Toronto', 'Roselawn'],\n",
       " ['M6N', 'York', 'The Junction North'],\n",
       " ['M6N', 'York', 'Runnymede'],\n",
       " ['M7N', 'Not assigned', 'Not assigned'],\n",
       " ['M8N', 'Not assigned', 'Not assigned'],\n",
       " ['M9N', 'York', 'Weston'],\n",
       " ['M1P', 'Scarborough', 'Dorset Park'],\n",
       " ['M1P', 'Scarborough', 'Scarborough Town Centre'],\n",
       " ['M1P', 'Scarborough', 'Wexford Heights'],\n",
       " ['M2P', 'North York', 'York Mills West'],\n",
       " ['M3P', 'Not assigned', 'Not assigned'],\n",
       " ['M4P', 'Central Toronto', 'Davisville North'],\n",
       " ['M5P', 'Central Toronto', 'Forest Hill North'],\n",
       " ['M5P', 'Central Toronto', 'Forest Hill West'],\n",
       " ['M6P', 'West Toronto', 'High Park'],\n",
       " ['M6P', 'West Toronto', 'The Junction South'],\n",
       " ['M7P', 'Not assigned', 'Not assigned'],\n",
       " ['M8P', 'Not assigned', 'Not assigned'],\n",
       " ['M9P', 'Etobicoke', 'Westmount'],\n",
       " ['M1R', 'Scarborough', 'Maryvale'],\n",
       " ['M1R', 'Scarborough', 'Wexford'],\n",
       " ['M2R', 'North York', 'Willowdale West'],\n",
       " ['M3R', 'Not assigned', 'Not assigned'],\n",
       " ['M4R', 'Central Toronto', 'North Toronto West'],\n",
       " ['M5R', 'Central Toronto', 'The Annex'],\n",
       " ['M5R', 'Central Toronto', 'North Midtown'],\n",
       " ['M5R', 'Central Toronto', 'Yorkville'],\n",
       " ['M6R', 'West Toronto', 'Parkdale'],\n",
       " ['M6R', 'West Toronto', 'Roncesvalles'],\n",
       " ['M7R', 'Mississauga', 'Canada Post Gateway Processing Centre'],\n",
       " ['M8R', 'Not assigned', 'Not assigned'],\n",
       " ['M9R', 'Etobicoke', 'Kingsview Village'],\n",
       " ['M9R', 'Etobicoke', 'Martin Grove Gardens'],\n",
       " ['M9R', 'Etobicoke', 'Richview Gardens'],\n",
       " ['M9R', 'Etobicoke', 'St. Phillips'],\n",
       " ['M1S', 'Scarborough', 'Agincourt'],\n",
       " ['M2S', 'Not assigned', 'Not assigned'],\n",
       " ['M3S', 'Not assigned', 'Not assigned'],\n",
       " ['M4S', 'Central Toronto', 'Davisville'],\n",
       " ['M5S', 'Downtown Toronto', 'Harbord'],\n",
       " ['M5S', 'Downtown Toronto', 'University of Toronto'],\n",
       " ['M6S', 'West Toronto', 'Runnymede'],\n",
       " ['M6S', 'West Toronto', 'Swansea'],\n",
       " ['M7S', 'Not assigned', 'Not assigned'],\n",
       " ['M8S', 'Not assigned', 'Not assigned'],\n",
       " ['M9S', 'Not assigned', 'Not assigned'],\n",
       " ['M1T', 'Scarborough', 'Clarks Corners'],\n",
       " ['M1T', 'Scarborough', 'Sullivan'],\n",
       " ['M1T', 'Scarborough', \"Tam O'Shanter\"],\n",
       " ['M2T', 'Not assigned', 'Not assigned'],\n",
       " ['M3T', 'Not assigned', 'Not assigned'],\n",
       " ['M4T', 'Central Toronto', 'Moore Park'],\n",
       " ['M4T', 'Central Toronto', 'Summerhill East'],\n",
       " ['M5T', 'Downtown Toronto', 'Chinatown'],\n",
       " ['M5T', 'Downtown Toronto', 'Grange Park'],\n",
       " ['M5T', 'Downtown Toronto', 'Kensington Market'],\n",
       " ['M6T', 'Not assigned', 'Not assigned'],\n",
       " ['M7T', 'Not assigned', 'Not assigned'],\n",
       " ['M8T', 'Not assigned', 'Not assigned'],\n",
       " ['M9T', 'Not assigned', 'Not assigned'],\n",
       " ['M1V', 'Scarborough', 'Agincourt North'],\n",
       " ['M1V', 'Scarborough', \"L'Amoreaux East\"],\n",
       " ['M1V', 'Scarborough', 'Milliken'],\n",
       " ['M1V', 'Scarborough', 'Steeles East'],\n",
       " ['M2V', 'Not assigned', 'Not assigned'],\n",
       " ['M3V', 'Not assigned', 'Not assigned'],\n",
       " ['M4V', 'Central Toronto', 'Deer Park'],\n",
       " ['M4V', 'Central Toronto', 'Forest Hill SE'],\n",
       " ['M4V', 'Central Toronto', 'Rathnelly'],\n",
       " ['M4V', 'Central Toronto', 'South Hill'],\n",
       " ['M4V', 'Central Toronto', 'Summerhill West'],\n",
       " ['M5V', 'Downtown Toronto', 'CN Tower'],\n",
       " ['M5V', 'Downtown Toronto', 'Bathurst Quay'],\n",
       " ['M5V', 'Downtown Toronto', 'Island airport'],\n",
       " ['M5V', 'Downtown Toronto', 'Harbourfront West'],\n",
       " ['M5V', 'Downtown Toronto', 'King and Spadina'],\n",
       " ['M5V', 'Downtown Toronto', 'Railway Lands'],\n",
       " ['M5V', 'Downtown Toronto', 'South Niagara'],\n",
       " ['M6V', 'Not assigned', 'Not assigned'],\n",
       " ['M7V', 'Not assigned', 'Not assigned'],\n",
       " ['M8V', 'Etobicoke', 'Humber Bay Shores'],\n",
       " ['M8V', 'Etobicoke', 'Mimico South'],\n",
       " ['M8V', 'Etobicoke', 'New Toronto'],\n",
       " ['M9V', 'Etobicoke', 'Albion Gardens'],\n",
       " ['M9V', 'Etobicoke', 'Beaumond Heights'],\n",
       " ['M9V', 'Etobicoke', 'Humbergate'],\n",
       " ['M9V', 'Etobicoke', 'Jamestown'],\n",
       " ['M9V', 'Etobicoke', 'Mount Olive'],\n",
       " ['M9V', 'Etobicoke', 'Silverstone'],\n",
       " ['M9V', 'Etobicoke', 'South Steeles'],\n",
       " ['M9V', 'Etobicoke', 'Thistletown'],\n",
       " ['M1W', 'Scarborough', \"L'Amoreaux West\"],\n",
       " ['M2W', 'Not assigned', 'Not assigned'],\n",
       " ['M3W', 'Not assigned', 'Not assigned'],\n",
       " ['M4W', 'Downtown Toronto', 'Rosedale'],\n",
       " ['M5W', 'Downtown Toronto', 'Stn A PO Boxes 25 The Esplanade'],\n",
       " ['M6W', 'Not assigned', 'Not assigned'],\n",
       " ['M7W', 'Not assigned', 'Not assigned'],\n",
       " ['M8W', 'Etobicoke', 'Alderwood'],\n",
       " ['M8W', 'Etobicoke', 'Long Branch'],\n",
       " ['M9W', 'Etobicoke', 'Northwest'],\n",
       " ['M1X', 'Scarborough', 'Upper Rouge'],\n",
       " ['M2X', 'Not assigned', 'Not assigned'],\n",
       " ['M3X', 'Not assigned', 'Not assigned'],\n",
       " ['M4X', 'Downtown Toronto', 'Cabbagetown'],\n",
       " ['M4X', 'Downtown Toronto', 'St. James Town'],\n",
       " ['M5X', 'Downtown Toronto', 'First Canadian Place'],\n",
       " ['M5X', 'Downtown Toronto', 'Underground city'],\n",
       " ['M6X', 'Not assigned', 'Not assigned'],\n",
       " ['M7X', 'Not assigned', 'Not assigned'],\n",
       " ['M8X', 'Etobicoke', 'The Kingsway'],\n",
       " ['M8X', 'Etobicoke', 'Montgomery Road'],\n",
       " ['M8X', 'Etobicoke', 'Old Mill North'],\n",
       " ['M9X', 'Not assigned', 'Not assigned'],\n",
       " ['M1Y', 'Not assigned', 'Not assigned'],\n",
       " ['M2Y', 'Not assigned', 'Not assigned'],\n",
       " ['M3Y', 'Not assigned', 'Not assigned'],\n",
       " ['M4Y', 'Downtown Toronto', 'Church and Wellesley'],\n",
       " ['M5Y', 'Not assigned', 'Not assigned'],\n",
       " ['M6Y', 'Not assigned', 'Not assigned'],\n",
       " ['M7Y', 'East Toronto', 'Business Reply Mail Processing Centre 969 Eastern'],\n",
       " ['M8Y', 'Etobicoke', 'Humber Bay'],\n",
       " ['M8Y', 'Etobicoke', \"King's Mill Park\"],\n",
       " ['M8Y', 'Etobicoke', 'Kingsway Park South East'],\n",
       " ['M8Y', 'Etobicoke', 'Mimico NE'],\n",
       " ['M8Y', 'Etobicoke', 'Old Mill South'],\n",
       " ['M8Y', 'Etobicoke', 'The Queensway East'],\n",
       " ['M8Y', 'Etobicoke', 'Royal York South East'],\n",
       " ['M8Y', 'Etobicoke', 'Sunnylea'],\n",
       " ['M9Y', 'Not assigned', 'Not assigned'],\n",
       " ['M1Z', 'Not assigned', 'Not assigned'],\n",
       " ['M2Z', 'Not assigned', 'Not assigned'],\n",
       " ['M3Z', 'Not assigned', 'Not assigned'],\n",
       " ['M4Z', 'Not assigned', 'Not assigned'],\n",
       " ['M5Z', 'Not assigned', 'Not assigned'],\n",
       " ['M6Z', 'Not assigned', 'Not assigned'],\n",
       " ['M7Z', 'Not assigned', 'Not assigned'],\n",
       " ['M8Z', 'Etobicoke', 'Kingsway Park South West'],\n",
       " ['M8Z', 'Etobicoke', 'Mimico NW'],\n",
       " ['M8Z', 'Etobicoke', 'The Queensway West'],\n",
       " ['M8Z', 'Etobicoke', 'Royal York South West'],\n",
       " ['M8Z', 'Etobicoke', 'South of Bloor'],\n",
       " ['M9Z', 'Not assigned', 'Not assigned']]"
      ]
     },
     "execution_count": 6,
     "metadata": {},
     "output_type": "execute_result"
    }
   ],
   "source": [
    "#create a list with 3 items in every list. Strip is used to remove '\\n' from the end of the line.\n",
    "toronto_list = []\n",
    "for tr in table_rows:\n",
    "    td = tr.find_all('td')\n",
    "    row = [i.text.strip() for i in td]\n",
    "    #print(row)\n",
    "    toronto_list.append(row)\n",
    "toronto_list"
   ]
  },
  {
   "cell_type": "code",
   "execution_count": 7,
   "metadata": {},
   "outputs": [
    {
     "data": {
      "text/plain": [
       "289"
      ]
     },
     "execution_count": 7,
     "metadata": {},
     "output_type": "execute_result"
    }
   ],
   "source": [
    "len(toronto_list)"
   ]
  },
  {
   "cell_type": "code",
   "execution_count": 8,
   "metadata": {},
   "outputs": [
    {
     "data": {
      "text/plain": [
       "[['M1A', 'Not assigned', 'Not assigned'],\n",
       " ['M2A', 'Not assigned', 'Not assigned'],\n",
       " ['M3A', 'North York', 'Parkwoods'],\n",
       " ['M4A', 'North York', 'Victoria Village'],\n",
       " ['M5A', 'Downtown Toronto', 'Harbourfront']]"
      ]
     },
     "execution_count": 8,
     "metadata": {},
     "output_type": "execute_result"
    }
   ],
   "source": [
    "#remove first item from the list\n",
    "toronto_list = toronto_list[1:]\n",
    "toronto_list[:5]"
   ]
  },
  {
   "cell_type": "markdown",
   "metadata": {},
   "source": [
    "### Now we have to do the following: \n",
    "* create pandas DataFrame from the list of list that was scraped from the web page\n",
    "* drop all rows with the value of the Borough 'Not Assigned'\n",
    "* change name of the Neighborhood in the row that has neighborhood value 'Not Assigned' to the corresponding Borough name\n",
    "* combine all rows that have same PostalCode and Borough, like M5A and Downtown Toronto into one row with 2 or more neighborhoods. For this we have to use groupby method."
   ]
  },
  {
   "cell_type": "code",
   "execution_count": 9,
   "metadata": {},
   "outputs": [
    {
     "data": {
      "text/html": [
       "<div>\n",
       "<style scoped>\n",
       "    .dataframe tbody tr th:only-of-type {\n",
       "        vertical-align: middle;\n",
       "    }\n",
       "\n",
       "    .dataframe tbody tr th {\n",
       "        vertical-align: top;\n",
       "    }\n",
       "\n",
       "    .dataframe thead th {\n",
       "        text-align: right;\n",
       "    }\n",
       "</style>\n",
       "<table border=\"1\" class=\"dataframe\">\n",
       "  <thead>\n",
       "    <tr style=\"text-align: right;\">\n",
       "      <th></th>\n",
       "      <th>PostalCode</th>\n",
       "      <th>Borough</th>\n",
       "      <th>Neighborhood</th>\n",
       "    </tr>\n",
       "  </thead>\n",
       "  <tbody>\n",
       "    <tr>\n",
       "      <th>0</th>\n",
       "      <td>M1A</td>\n",
       "      <td>Not assigned</td>\n",
       "      <td>Not assigned</td>\n",
       "    </tr>\n",
       "    <tr>\n",
       "      <th>1</th>\n",
       "      <td>M2A</td>\n",
       "      <td>Not assigned</td>\n",
       "      <td>Not assigned</td>\n",
       "    </tr>\n",
       "    <tr>\n",
       "      <th>2</th>\n",
       "      <td>M3A</td>\n",
       "      <td>North York</td>\n",
       "      <td>Parkwoods</td>\n",
       "    </tr>\n",
       "    <tr>\n",
       "      <th>3</th>\n",
       "      <td>M4A</td>\n",
       "      <td>North York</td>\n",
       "      <td>Victoria Village</td>\n",
       "    </tr>\n",
       "    <tr>\n",
       "      <th>4</th>\n",
       "      <td>M5A</td>\n",
       "      <td>Downtown Toronto</td>\n",
       "      <td>Harbourfront</td>\n",
       "    </tr>\n",
       "  </tbody>\n",
       "</table>\n",
       "</div>"
      ],
      "text/plain": [
       "  PostalCode           Borough      Neighborhood\n",
       "0        M1A      Not assigned      Not assigned\n",
       "1        M2A      Not assigned      Not assigned\n",
       "2        M3A        North York         Parkwoods\n",
       "3        M4A        North York  Victoria Village\n",
       "4        M5A  Downtown Toronto      Harbourfront"
      ]
     },
     "execution_count": 9,
     "metadata": {},
     "output_type": "execute_result"
    }
   ],
   "source": [
    "#creating DF from the list and renaming columns\n",
    "df = pd.DataFrame(toronto_list)\n",
    "df.rename(columns={0 : 'PostalCode', 1 : 'Borough', 2 : 'Neighborhood'}, inplace=True)\n",
    "df.head()"
   ]
  },
  {
   "cell_type": "code",
   "execution_count": 10,
   "metadata": {},
   "outputs": [
    {
     "data": {
      "text/plain": [
       "288"
      ]
     },
     "execution_count": 10,
     "metadata": {},
     "output_type": "execute_result"
    }
   ],
   "source": [
    "len(df)"
   ]
  },
  {
   "cell_type": "code",
   "execution_count": 11,
   "metadata": {},
   "outputs": [
    {
     "data": {
      "text/plain": [
       "77"
      ]
     },
     "execution_count": 11,
     "metadata": {},
     "output_type": "execute_result"
    }
   ],
   "source": [
    "#We have to drop all rows with the value of the Borough'Not Assigned'. There are 77 rows.\n",
    "len(df.loc[df['Borough'] == 'Not assigned'])"
   ]
  },
  {
   "cell_type": "code",
   "execution_count": 12,
   "metadata": {},
   "outputs": [
    {
     "data": {
      "text/plain": [
       "211"
      ]
     },
     "execution_count": 12,
     "metadata": {},
     "output_type": "execute_result"
    }
   ],
   "source": [
    "#we have dropped 77 rows, final number of rows is 211\n",
    "df = df.loc[df['Borough'] != 'Not assigned']\n",
    "len(df)"
   ]
  },
  {
   "cell_type": "code",
   "execution_count": 13,
   "metadata": {},
   "outputs": [],
   "source": [
    "# Code to drop all rows with the value of the Borough and Neighborhod 'Not Assigned'. There are 78 rows.\n",
    "#len(df.loc[(df['Borough'] == 'Not assigned') | (df['Neighborhood'] == 'Not assigned')])\n",
    "#df = df.loc[(df['Borough'] != 'Not assigned') & (df['Neighborhood'] != 'Not assigned')]"
   ]
  },
  {
   "cell_type": "code",
   "execution_count": 14,
   "metadata": {},
   "outputs": [],
   "source": [
    "#there is one more 'Not assigned' value in the Neighborhood, we will make Nighborhood same as the Borough \n",
    "df.loc[df['Neighborhood'] == 'Not assigned', 'Neighborhood'] = \"Queen's Park\""
   ]
  },
  {
   "cell_type": "code",
   "execution_count": 15,
   "metadata": {},
   "outputs": [
    {
     "data": {
      "text/html": [
       "<div>\n",
       "<style scoped>\n",
       "    .dataframe tbody tr th:only-of-type {\n",
       "        vertical-align: middle;\n",
       "    }\n",
       "\n",
       "    .dataframe tbody tr th {\n",
       "        vertical-align: top;\n",
       "    }\n",
       "\n",
       "    .dataframe thead th {\n",
       "        text-align: right;\n",
       "    }\n",
       "</style>\n",
       "<table border=\"1\" class=\"dataframe\">\n",
       "  <thead>\n",
       "    <tr style=\"text-align: right;\">\n",
       "      <th></th>\n",
       "      <th>PostalCode</th>\n",
       "      <th>Borough</th>\n",
       "      <th>Neighborhood</th>\n",
       "    </tr>\n",
       "  </thead>\n",
       "  <tbody>\n",
       "    <tr>\n",
       "      <th>8</th>\n",
       "      <td>M7A</td>\n",
       "      <td>Queen's Park</td>\n",
       "      <td>Queen's Park</td>\n",
       "    </tr>\n",
       "  </tbody>\n",
       "</table>\n",
       "</div>"
      ],
      "text/plain": [
       "  PostalCode       Borough  Neighborhood\n",
       "8        M7A  Queen's Park  Queen's Park"
      ]
     },
     "execution_count": 15,
     "metadata": {},
     "output_type": "execute_result"
    }
   ],
   "source": [
    "#just to check if the name was changed successfuly\n",
    "df.loc[df['Borough'] == \"Queen's Park\"]"
   ]
  },
  {
   "cell_type": "code",
   "execution_count": 16,
   "metadata": {},
   "outputs": [
    {
     "data": {
      "text/html": [
       "<div>\n",
       "<style scoped>\n",
       "    .dataframe tbody tr th:only-of-type {\n",
       "        vertical-align: middle;\n",
       "    }\n",
       "\n",
       "    .dataframe tbody tr th {\n",
       "        vertical-align: top;\n",
       "    }\n",
       "\n",
       "    .dataframe thead th {\n",
       "        text-align: right;\n",
       "    }\n",
       "</style>\n",
       "<table border=\"1\" class=\"dataframe\">\n",
       "  <thead>\n",
       "    <tr style=\"text-align: right;\">\n",
       "      <th></th>\n",
       "      <th>PostalCode</th>\n",
       "      <th>Borough</th>\n",
       "      <th>Neighborhood</th>\n",
       "    </tr>\n",
       "  </thead>\n",
       "  <tbody>\n",
       "    <tr>\n",
       "      <th>4</th>\n",
       "      <td>M5A</td>\n",
       "      <td>Downtown Toronto</td>\n",
       "      <td>Harbourfront</td>\n",
       "    </tr>\n",
       "    <tr>\n",
       "      <th>5</th>\n",
       "      <td>M5A</td>\n",
       "      <td>Downtown Toronto</td>\n",
       "      <td>Regent Park</td>\n",
       "    </tr>\n",
       "  </tbody>\n",
       "</table>\n",
       "</div>"
      ],
      "text/plain": [
       "  PostalCode           Borough  Neighborhood\n",
       "4        M5A  Downtown Toronto  Harbourfront\n",
       "5        M5A  Downtown Toronto   Regent Park"
      ]
     },
     "execution_count": 16,
     "metadata": {},
     "output_type": "execute_result"
    }
   ],
   "source": [
    "#we have to combine all rows that have same PostalCode and Borough, like M5A and Downtown Toronto \n",
    "#into one row with 2 or more neighborhoods\n",
    "df.loc[df.PostalCode == 'M5A']"
   ]
  },
  {
   "cell_type": "code",
   "execution_count": 17,
   "metadata": {},
   "outputs": [],
   "source": [
    "#use group by method to group items by PostalCode and Borough, result is Series with two indexes and string join by ','.\n",
    "df_grouped = df.groupby(['PostalCode', 'Borough'])['Neighborhood'].apply(','.join)"
   ]
  },
  {
   "cell_type": "code",
   "execution_count": 18,
   "metadata": {},
   "outputs": [
    {
     "data": {
      "text/plain": [
       "PostalCode  Borough    \n",
       "M1B         Scarborough                                Rouge,Malvern\n",
       "M1C         Scarborough         Highland Creek,Rouge Hill,Port Union\n",
       "M1E         Scarborough              Guildwood,Morningside,West Hill\n",
       "M1G         Scarborough                                       Woburn\n",
       "M1H         Scarborough                                    Cedarbrae\n",
       "M1J         Scarborough                          Scarborough Village\n",
       "M1K         Scarborough    East Birchmount Park,Ionview,Kennedy Park\n",
       "M1L         Scarborough                Clairlea,Golden Mile,Oakridge\n",
       "Name: Neighborhood, dtype: object"
      ]
     },
     "execution_count": 18,
     "metadata": {},
     "output_type": "execute_result"
    }
   ],
   "source": [
    "df_grouped.head(8)"
   ]
  },
  {
   "cell_type": "code",
   "execution_count": 19,
   "metadata": {},
   "outputs": [
    {
     "data": {
      "text/plain": [
       "pandas.core.series.Series"
      ]
     },
     "execution_count": 19,
     "metadata": {},
     "output_type": "execute_result"
    }
   ],
   "source": [
    "#group by return Pandas Series here multiindex serie.\n",
    "type(df_grouped)"
   ]
  },
  {
   "cell_type": "code",
   "execution_count": 20,
   "metadata": {},
   "outputs": [
    {
     "data": {
      "text/html": [
       "<div>\n",
       "<style scoped>\n",
       "    .dataframe tbody tr th:only-of-type {\n",
       "        vertical-align: middle;\n",
       "    }\n",
       "\n",
       "    .dataframe tbody tr th {\n",
       "        vertical-align: top;\n",
       "    }\n",
       "\n",
       "    .dataframe thead th {\n",
       "        text-align: right;\n",
       "    }\n",
       "</style>\n",
       "<table border=\"1\" class=\"dataframe\">\n",
       "  <thead>\n",
       "    <tr style=\"text-align: right;\">\n",
       "      <th></th>\n",
       "      <th></th>\n",
       "      <th>Neighborhood</th>\n",
       "    </tr>\n",
       "    <tr>\n",
       "      <th>PostalCode</th>\n",
       "      <th>Borough</th>\n",
       "      <th></th>\n",
       "    </tr>\n",
       "  </thead>\n",
       "  <tbody>\n",
       "    <tr>\n",
       "      <th>M1B</th>\n",
       "      <th>Scarborough</th>\n",
       "      <td>Rouge,Malvern</td>\n",
       "    </tr>\n",
       "    <tr>\n",
       "      <th>M1C</th>\n",
       "      <th>Scarborough</th>\n",
       "      <td>Highland Creek,Rouge Hill,Port Union</td>\n",
       "    </tr>\n",
       "    <tr>\n",
       "      <th>M1E</th>\n",
       "      <th>Scarborough</th>\n",
       "      <td>Guildwood,Morningside,West Hill</td>\n",
       "    </tr>\n",
       "    <tr>\n",
       "      <th>M1G</th>\n",
       "      <th>Scarborough</th>\n",
       "      <td>Woburn</td>\n",
       "    </tr>\n",
       "    <tr>\n",
       "      <th>M1H</th>\n",
       "      <th>Scarborough</th>\n",
       "      <td>Cedarbrae</td>\n",
       "    </tr>\n",
       "    <tr>\n",
       "      <th>M1J</th>\n",
       "      <th>Scarborough</th>\n",
       "      <td>Scarborough Village</td>\n",
       "    </tr>\n",
       "    <tr>\n",
       "      <th>M1K</th>\n",
       "      <th>Scarborough</th>\n",
       "      <td>East Birchmount Park,Ionview,Kennedy Park</td>\n",
       "    </tr>\n",
       "    <tr>\n",
       "      <th>M1L</th>\n",
       "      <th>Scarborough</th>\n",
       "      <td>Clairlea,Golden Mile,Oakridge</td>\n",
       "    </tr>\n",
       "  </tbody>\n",
       "</table>\n",
       "</div>"
      ],
      "text/plain": [
       "                                                     Neighborhood\n",
       "PostalCode Borough                                               \n",
       "M1B        Scarborough                              Rouge,Malvern\n",
       "M1C        Scarborough       Highland Creek,Rouge Hill,Port Union\n",
       "M1E        Scarborough            Guildwood,Morningside,West Hill\n",
       "M1G        Scarborough                                     Woburn\n",
       "M1H        Scarborough                                  Cedarbrae\n",
       "M1J        Scarborough                        Scarborough Village\n",
       "M1K        Scarborough  East Birchmount Park,Ionview,Kennedy Park\n",
       "M1L        Scarborough              Clairlea,Golden Mile,Oakridge"
      ]
     },
     "execution_count": 20,
     "metadata": {},
     "output_type": "execute_result"
    }
   ],
   "source": [
    "df_toronto = pd.DataFrame(df_grouped)\n",
    "df_toronto.head(8)"
   ]
  },
  {
   "cell_type": "code",
   "execution_count": 21,
   "metadata": {},
   "outputs": [
    {
     "data": {
      "text/html": [
       "<div>\n",
       "<style scoped>\n",
       "    .dataframe tbody tr th:only-of-type {\n",
       "        vertical-align: middle;\n",
       "    }\n",
       "\n",
       "    .dataframe tbody tr th {\n",
       "        vertical-align: top;\n",
       "    }\n",
       "\n",
       "    .dataframe thead th {\n",
       "        text-align: right;\n",
       "    }\n",
       "</style>\n",
       "<table border=\"1\" class=\"dataframe\">\n",
       "  <thead>\n",
       "    <tr style=\"text-align: right;\">\n",
       "      <th></th>\n",
       "      <th>PostalCode</th>\n",
       "      <th>Borough</th>\n",
       "      <th>Neighborhood</th>\n",
       "    </tr>\n",
       "  </thead>\n",
       "  <tbody>\n",
       "    <tr>\n",
       "      <th>0</th>\n",
       "      <td>M1B</td>\n",
       "      <td>Scarborough</td>\n",
       "      <td>Rouge,Malvern</td>\n",
       "    </tr>\n",
       "    <tr>\n",
       "      <th>1</th>\n",
       "      <td>M1C</td>\n",
       "      <td>Scarborough</td>\n",
       "      <td>Highland Creek,Rouge Hill,Port Union</td>\n",
       "    </tr>\n",
       "    <tr>\n",
       "      <th>2</th>\n",
       "      <td>M1E</td>\n",
       "      <td>Scarborough</td>\n",
       "      <td>Guildwood,Morningside,West Hill</td>\n",
       "    </tr>\n",
       "    <tr>\n",
       "      <th>3</th>\n",
       "      <td>M1G</td>\n",
       "      <td>Scarborough</td>\n",
       "      <td>Woburn</td>\n",
       "    </tr>\n",
       "    <tr>\n",
       "      <th>4</th>\n",
       "      <td>M1H</td>\n",
       "      <td>Scarborough</td>\n",
       "      <td>Cedarbrae</td>\n",
       "    </tr>\n",
       "    <tr>\n",
       "      <th>5</th>\n",
       "      <td>M1J</td>\n",
       "      <td>Scarborough</td>\n",
       "      <td>Scarborough Village</td>\n",
       "    </tr>\n",
       "    <tr>\n",
       "      <th>6</th>\n",
       "      <td>M1K</td>\n",
       "      <td>Scarborough</td>\n",
       "      <td>East Birchmount Park,Ionview,Kennedy Park</td>\n",
       "    </tr>\n",
       "    <tr>\n",
       "      <th>7</th>\n",
       "      <td>M1L</td>\n",
       "      <td>Scarborough</td>\n",
       "      <td>Clairlea,Golden Mile,Oakridge</td>\n",
       "    </tr>\n",
       "  </tbody>\n",
       "</table>\n",
       "</div>"
      ],
      "text/plain": [
       "  PostalCode      Borough                               Neighborhood\n",
       "0        M1B  Scarborough                              Rouge,Malvern\n",
       "1        M1C  Scarborough       Highland Creek,Rouge Hill,Port Union\n",
       "2        M1E  Scarborough            Guildwood,Morningside,West Hill\n",
       "3        M1G  Scarborough                                     Woburn\n",
       "4        M1H  Scarborough                                  Cedarbrae\n",
       "5        M1J  Scarborough                        Scarborough Village\n",
       "6        M1K  Scarborough  East Birchmount Park,Ionview,Kennedy Park\n",
       "7        M1L  Scarborough              Clairlea,Golden Mile,Oakridge"
      ]
     },
     "execution_count": 21,
     "metadata": {},
     "output_type": "execute_result"
    }
   ],
   "source": [
    "df_toronto = df_toronto.reset_index()\n",
    "df_toronto.head(8)"
   ]
  },
  {
   "cell_type": "code",
   "execution_count": 22,
   "metadata": {},
   "outputs": [
    {
     "data": {
      "text/plain": [
       "(103, 3)"
      ]
     },
     "execution_count": 22,
     "metadata": {},
     "output_type": "execute_result"
    }
   ],
   "source": [
    "df_toronto.shape"
   ]
  },
  {
   "cell_type": "markdown",
   "metadata": {},
   "source": [
    "# Part 2 - Segmenting and Clustering Neighborhoods in Toronto"
   ]
  },
  {
   "cell_type": "markdown",
   "metadata": {},
   "source": [
    "Now that we have built a dataframe of the postal code of each neighborhood along with the borough name and neighborhood name, in order to utilize the Foursquare location data, we need to get the latitude and the longitude coordinates of each neighborhood."
   ]
  },
  {
   "cell_type": "markdown",
   "metadata": {},
   "source": [
    "### Geocoder with geocoder.google does not work, it works with geocoder.arcgis but the coordinates are not  the same as the ones in the csv file.\n",
    "Here is the code used with geocoder.arcgis"
   ]
  },
  {
   "cell_type": "code",
   "execution_count": 23,
   "metadata": {},
   "outputs": [],
   "source": [
    "import geocoder # import geocoder\n",
    "\n",
    "# initialize your variable to None\n",
    "lat_lng_coords = None\n",
    "latitude_list = []\n",
    "longitude_list = []\n",
    "\n",
    "# loop until you get the coordinates\n",
    "while(lat_lng_coords is None):\n",
    "    for i in df_toronto['PostalCode']: \n",
    "        g = geocoder.arcgis('{}, Toronto, Ontario'.format(i))\n",
    "        lat_lng_coords = g.latlng\n",
    "        latitude_list.append(lat_lng_coords[0])\n",
    "        longitude_list.append(lat_lng_coords[1])\n"
   ]
  },
  {
   "cell_type": "code",
   "execution_count": 24,
   "metadata": {},
   "outputs": [
    {
     "data": {
      "text/plain": [
       "103"
      ]
     },
     "execution_count": 24,
     "metadata": {},
     "output_type": "execute_result"
    }
   ],
   "source": [
    "len(latitude_list)"
   ]
  },
  {
   "cell_type": "code",
   "execution_count": 25,
   "metadata": {},
   "outputs": [
    {
     "data": {
      "text/plain": [
       "103"
      ]
     },
     "execution_count": 25,
     "metadata": {},
     "output_type": "execute_result"
    }
   ],
   "source": [
    "len(longitude_list)"
   ]
  },
  {
   "cell_type": "code",
   "execution_count": 26,
   "metadata": {},
   "outputs": [
    {
     "data": {
      "text/html": [
       "<div>\n",
       "<style scoped>\n",
       "    .dataframe tbody tr th:only-of-type {\n",
       "        vertical-align: middle;\n",
       "    }\n",
       "\n",
       "    .dataframe tbody tr th {\n",
       "        vertical-align: top;\n",
       "    }\n",
       "\n",
       "    .dataframe thead th {\n",
       "        text-align: right;\n",
       "    }\n",
       "</style>\n",
       "<table border=\"1\" class=\"dataframe\">\n",
       "  <thead>\n",
       "    <tr style=\"text-align: right;\">\n",
       "      <th></th>\n",
       "      <th>0</th>\n",
       "    </tr>\n",
       "  </thead>\n",
       "  <tbody>\n",
       "    <tr>\n",
       "      <th>0</th>\n",
       "      <td>43.811525</td>\n",
       "    </tr>\n",
       "    <tr>\n",
       "      <th>1</th>\n",
       "      <td>43.785665</td>\n",
       "    </tr>\n",
       "    <tr>\n",
       "      <th>2</th>\n",
       "      <td>43.765815</td>\n",
       "    </tr>\n",
       "    <tr>\n",
       "      <th>3</th>\n",
       "      <td>43.768369</td>\n",
       "    </tr>\n",
       "    <tr>\n",
       "      <th>4</th>\n",
       "      <td>43.769688</td>\n",
       "    </tr>\n",
       "    <tr>\n",
       "      <th>5</th>\n",
       "      <td>43.743125</td>\n",
       "    </tr>\n",
       "  </tbody>\n",
       "</table>\n",
       "</div>"
      ],
      "text/plain": [
       "           0\n",
       "0  43.811525\n",
       "1  43.785665\n",
       "2  43.765815\n",
       "3  43.768369\n",
       "4  43.769688\n",
       "5  43.743125"
      ]
     },
     "execution_count": 26,
     "metadata": {},
     "output_type": "execute_result"
    }
   ],
   "source": [
    "df_latitude = pd.DataFrame(latitude_list)\n",
    "df_latitude.head(6)"
   ]
  },
  {
   "cell_type": "code",
   "execution_count": 27,
   "metadata": {},
   "outputs": [
    {
     "data": {
      "text/html": [
       "<div>\n",
       "<style scoped>\n",
       "    .dataframe tbody tr th:only-of-type {\n",
       "        vertical-align: middle;\n",
       "    }\n",
       "\n",
       "    .dataframe tbody tr th {\n",
       "        vertical-align: top;\n",
       "    }\n",
       "\n",
       "    .dataframe thead th {\n",
       "        text-align: right;\n",
       "    }\n",
       "</style>\n",
       "<table border=\"1\" class=\"dataframe\">\n",
       "  <thead>\n",
       "    <tr style=\"text-align: right;\">\n",
       "      <th></th>\n",
       "      <th>0</th>\n",
       "    </tr>\n",
       "  </thead>\n",
       "  <tbody>\n",
       "    <tr>\n",
       "      <th>0</th>\n",
       "      <td>-79.195517</td>\n",
       "    </tr>\n",
       "    <tr>\n",
       "      <th>1</th>\n",
       "      <td>-79.158725</td>\n",
       "    </tr>\n",
       "    <tr>\n",
       "      <th>2</th>\n",
       "      <td>-79.175193</td>\n",
       "    </tr>\n",
       "    <tr>\n",
       "      <th>3</th>\n",
       "      <td>-79.217590</td>\n",
       "    </tr>\n",
       "    <tr>\n",
       "      <th>4</th>\n",
       "      <td>-79.239440</td>\n",
       "    </tr>\n",
       "    <tr>\n",
       "      <th>5</th>\n",
       "      <td>-79.231750</td>\n",
       "    </tr>\n",
       "  </tbody>\n",
       "</table>\n",
       "</div>"
      ],
      "text/plain": [
       "           0\n",
       "0 -79.195517\n",
       "1 -79.158725\n",
       "2 -79.175193\n",
       "3 -79.217590\n",
       "4 -79.239440\n",
       "5 -79.231750"
      ]
     },
     "execution_count": 27,
     "metadata": {},
     "output_type": "execute_result"
    }
   ],
   "source": [
    "df_longitude = pd.DataFrame(longitude_list)\n",
    "df_longitude.head(6)"
   ]
  },
  {
   "cell_type": "code",
   "execution_count": 28,
   "metadata": {},
   "outputs": [
    {
     "data": {
      "text/html": [
       "<div>\n",
       "<style scoped>\n",
       "    .dataframe tbody tr th:only-of-type {\n",
       "        vertical-align: middle;\n",
       "    }\n",
       "\n",
       "    .dataframe tbody tr th {\n",
       "        vertical-align: top;\n",
       "    }\n",
       "\n",
       "    .dataframe thead th {\n",
       "        text-align: right;\n",
       "    }\n",
       "</style>\n",
       "<table border=\"1\" class=\"dataframe\">\n",
       "  <thead>\n",
       "    <tr style=\"text-align: right;\">\n",
       "      <th></th>\n",
       "      <th>PostalCode</th>\n",
       "      <th>Borough</th>\n",
       "      <th>Neighborhood</th>\n",
       "    </tr>\n",
       "  </thead>\n",
       "  <tbody>\n",
       "    <tr>\n",
       "      <th>0</th>\n",
       "      <td>M1B</td>\n",
       "      <td>Scarborough</td>\n",
       "      <td>Rouge,Malvern</td>\n",
       "    </tr>\n",
       "    <tr>\n",
       "      <th>1</th>\n",
       "      <td>M1C</td>\n",
       "      <td>Scarborough</td>\n",
       "      <td>Highland Creek,Rouge Hill,Port Union</td>\n",
       "    </tr>\n",
       "    <tr>\n",
       "      <th>2</th>\n",
       "      <td>M1E</td>\n",
       "      <td>Scarborough</td>\n",
       "      <td>Guildwood,Morningside,West Hill</td>\n",
       "    </tr>\n",
       "    <tr>\n",
       "      <th>3</th>\n",
       "      <td>M1G</td>\n",
       "      <td>Scarborough</td>\n",
       "      <td>Woburn</td>\n",
       "    </tr>\n",
       "    <tr>\n",
       "      <th>4</th>\n",
       "      <td>M1H</td>\n",
       "      <td>Scarborough</td>\n",
       "      <td>Cedarbrae</td>\n",
       "    </tr>\n",
       "    <tr>\n",
       "      <th>5</th>\n",
       "      <td>M1J</td>\n",
       "      <td>Scarborough</td>\n",
       "      <td>Scarborough Village</td>\n",
       "    </tr>\n",
       "  </tbody>\n",
       "</table>\n",
       "</div>"
      ],
      "text/plain": [
       "  PostalCode      Borough                          Neighborhood\n",
       "0        M1B  Scarborough                         Rouge,Malvern\n",
       "1        M1C  Scarborough  Highland Creek,Rouge Hill,Port Union\n",
       "2        M1E  Scarborough       Guildwood,Morningside,West Hill\n",
       "3        M1G  Scarborough                                Woburn\n",
       "4        M1H  Scarborough                             Cedarbrae\n",
       "5        M1J  Scarborough                   Scarborough Village"
      ]
     },
     "execution_count": 28,
     "metadata": {},
     "output_type": "execute_result"
    }
   ],
   "source": [
    "df_toronto.head(6)"
   ]
  },
  {
   "cell_type": "markdown",
   "metadata": {},
   "source": [
    "### I have tested coordinates also with pgeocode and they are not the same as the ones in csv file and also as the ones that I get with the goecoder.arcgis"
   ]
  },
  {
   "cell_type": "code",
   "execution_count": 29,
   "metadata": {},
   "outputs": [
    {
     "data": {
      "text/html": [
       "<div>\n",
       "<style scoped>\n",
       "    .dataframe tbody tr th:only-of-type {\n",
       "        vertical-align: middle;\n",
       "    }\n",
       "\n",
       "    .dataframe tbody tr th {\n",
       "        vertical-align: top;\n",
       "    }\n",
       "\n",
       "    .dataframe thead th {\n",
       "        text-align: right;\n",
       "    }\n",
       "</style>\n",
       "<table border=\"1\" class=\"dataframe\">\n",
       "  <thead>\n",
       "    <tr style=\"text-align: right;\">\n",
       "      <th></th>\n",
       "      <th>postal_code</th>\n",
       "      <th>country code</th>\n",
       "      <th>place_name</th>\n",
       "      <th>state_name</th>\n",
       "      <th>state_code</th>\n",
       "      <th>county_name</th>\n",
       "      <th>county_code</th>\n",
       "      <th>community_name</th>\n",
       "      <th>community_code</th>\n",
       "      <th>latitude</th>\n",
       "      <th>longitude</th>\n",
       "      <th>accuracy</th>\n",
       "    </tr>\n",
       "  </thead>\n",
       "  <tbody>\n",
       "    <tr>\n",
       "      <th>0</th>\n",
       "      <td>M1B</td>\n",
       "      <td>CA</td>\n",
       "      <td>Scarborough (Malvern / Rouge River)</td>\n",
       "      <td>Ontario</td>\n",
       "      <td>ON</td>\n",
       "      <td>Scarborough</td>\n",
       "      <td>NaN</td>\n",
       "      <td>NaN</td>\n",
       "      <td>NaN</td>\n",
       "      <td>43.8113</td>\n",
       "      <td>-79.1930</td>\n",
       "      <td>6.0</td>\n",
       "    </tr>\n",
       "    <tr>\n",
       "      <th>1</th>\n",
       "      <td>M1C</td>\n",
       "      <td>CA</td>\n",
       "      <td>Scarborough (Rouge Hill / Port Union / Highlan...</td>\n",
       "      <td>Ontario</td>\n",
       "      <td>ON</td>\n",
       "      <td>Scarborough</td>\n",
       "      <td>NaN</td>\n",
       "      <td>NaN</td>\n",
       "      <td>NaN</td>\n",
       "      <td>43.7878</td>\n",
       "      <td>-79.1564</td>\n",
       "      <td>6.0</td>\n",
       "    </tr>\n",
       "    <tr>\n",
       "      <th>2</th>\n",
       "      <td>M1E</td>\n",
       "      <td>CA</td>\n",
       "      <td>Scarborough (Guildwood / Morningside / Ellesmere)</td>\n",
       "      <td>Ontario</td>\n",
       "      <td>ON</td>\n",
       "      <td>Scarborough</td>\n",
       "      <td>NaN</td>\n",
       "      <td>NaN</td>\n",
       "      <td>NaN</td>\n",
       "      <td>43.7678</td>\n",
       "      <td>-79.1866</td>\n",
       "      <td>6.0</td>\n",
       "    </tr>\n",
       "    <tr>\n",
       "      <th>3</th>\n",
       "      <td>M1G</td>\n",
       "      <td>CA</td>\n",
       "      <td>Scarborough (Woburn)</td>\n",
       "      <td>Ontario</td>\n",
       "      <td>ON</td>\n",
       "      <td>Scarborough</td>\n",
       "      <td>NaN</td>\n",
       "      <td>NaN</td>\n",
       "      <td>NaN</td>\n",
       "      <td>43.7712</td>\n",
       "      <td>-79.2144</td>\n",
       "      <td>6.0</td>\n",
       "    </tr>\n",
       "    <tr>\n",
       "      <th>4</th>\n",
       "      <td>M1H</td>\n",
       "      <td>CA</td>\n",
       "      <td>Scarborough (Cedarbrae)</td>\n",
       "      <td>Ontario</td>\n",
       "      <td>ON</td>\n",
       "      <td>Scarborough</td>\n",
       "      <td>NaN</td>\n",
       "      <td>NaN</td>\n",
       "      <td>NaN</td>\n",
       "      <td>43.7686</td>\n",
       "      <td>-79.2389</td>\n",
       "      <td>6.0</td>\n",
       "    </tr>\n",
       "  </tbody>\n",
       "</table>\n",
       "</div>"
      ],
      "text/plain": [
       "  postal_code country code                                         place_name  \\\n",
       "0         M1B           CA                Scarborough (Malvern / Rouge River)   \n",
       "1         M1C           CA  Scarborough (Rouge Hill / Port Union / Highlan...   \n",
       "2         M1E           CA  Scarborough (Guildwood / Morningside / Ellesmere)   \n",
       "3         M1G           CA                               Scarborough (Woburn)   \n",
       "4         M1H           CA                            Scarborough (Cedarbrae)   \n",
       "\n",
       "  state_name state_code  county_name  county_code community_name  \\\n",
       "0    Ontario         ON  Scarborough          NaN            NaN   \n",
       "1    Ontario         ON  Scarborough          NaN            NaN   \n",
       "2    Ontario         ON  Scarborough          NaN            NaN   \n",
       "3    Ontario         ON  Scarborough          NaN            NaN   \n",
       "4    Ontario         ON  Scarborough          NaN            NaN   \n",
       "\n",
       "   community_code  latitude  longitude  accuracy  \n",
       "0             NaN   43.8113   -79.1930       6.0  \n",
       "1             NaN   43.7878   -79.1564       6.0  \n",
       "2             NaN   43.7678   -79.1866       6.0  \n",
       "3             NaN   43.7712   -79.2144       6.0  \n",
       "4             NaN   43.7686   -79.2389       6.0  "
      ]
     },
     "execution_count": 29,
     "metadata": {},
     "output_type": "execute_result"
    }
   ],
   "source": [
    "import pgeocode\n",
    "\n",
    "nomi = pgeocode.Nominatim('ca')\n",
    "data = nomi.query_postal_code([\"M1B\", \"M1C\", \"M1E\", \"M1G\", \"M1H\"])\n",
    "data"
   ]
  },
  {
   "cell_type": "markdown",
   "metadata": {},
   "source": [
    "### Due to the differences between values of the coordinates in the csv file and the values with geocoder and pgeocode I will make DF with the values from the csv file."
   ]
  },
  {
   "cell_type": "code",
   "execution_count": 30,
   "metadata": {},
   "outputs": [
    {
     "data": {
      "text/html": [
       "<div>\n",
       "<style scoped>\n",
       "    .dataframe tbody tr th:only-of-type {\n",
       "        vertical-align: middle;\n",
       "    }\n",
       "\n",
       "    .dataframe tbody tr th {\n",
       "        vertical-align: top;\n",
       "    }\n",
       "\n",
       "    .dataframe thead th {\n",
       "        text-align: right;\n",
       "    }\n",
       "</style>\n",
       "<table border=\"1\" class=\"dataframe\">\n",
       "  <thead>\n",
       "    <tr style=\"text-align: right;\">\n",
       "      <th></th>\n",
       "      <th>Postal Code</th>\n",
       "      <th>Latitude</th>\n",
       "      <th>Longitude</th>\n",
       "    </tr>\n",
       "  </thead>\n",
       "  <tbody>\n",
       "    <tr>\n",
       "      <th>0</th>\n",
       "      <td>M1B</td>\n",
       "      <td>43.806686</td>\n",
       "      <td>-79.194353</td>\n",
       "    </tr>\n",
       "    <tr>\n",
       "      <th>1</th>\n",
       "      <td>M1C</td>\n",
       "      <td>43.784535</td>\n",
       "      <td>-79.160497</td>\n",
       "    </tr>\n",
       "    <tr>\n",
       "      <th>2</th>\n",
       "      <td>M1E</td>\n",
       "      <td>43.763573</td>\n",
       "      <td>-79.188711</td>\n",
       "    </tr>\n",
       "    <tr>\n",
       "      <th>3</th>\n",
       "      <td>M1G</td>\n",
       "      <td>43.770992</td>\n",
       "      <td>-79.216917</td>\n",
       "    </tr>\n",
       "    <tr>\n",
       "      <th>4</th>\n",
       "      <td>M1H</td>\n",
       "      <td>43.773136</td>\n",
       "      <td>-79.239476</td>\n",
       "    </tr>\n",
       "  </tbody>\n",
       "</table>\n",
       "</div>"
      ],
      "text/plain": [
       "  Postal Code   Latitude  Longitude\n",
       "0         M1B  43.806686 -79.194353\n",
       "1         M1C  43.784535 -79.160497\n",
       "2         M1E  43.763573 -79.188711\n",
       "3         M1G  43.770992 -79.216917\n",
       "4         M1H  43.773136 -79.239476"
      ]
     },
     "execution_count": 30,
     "metadata": {},
     "output_type": "execute_result"
    }
   ],
   "source": [
    "#import csv file\n",
    "long_lat = pd.read_csv('Geospatial_Coordinates_Toronto_Neighbours.csv')\n",
    "long_lat.head()"
   ]
  },
  {
   "cell_type": "code",
   "execution_count": 31,
   "metadata": {},
   "outputs": [
    {
     "data": {
      "text/html": [
       "<div>\n",
       "<style scoped>\n",
       "    .dataframe tbody tr th:only-of-type {\n",
       "        vertical-align: middle;\n",
       "    }\n",
       "\n",
       "    .dataframe tbody tr th {\n",
       "        vertical-align: top;\n",
       "    }\n",
       "\n",
       "    .dataframe thead th {\n",
       "        text-align: right;\n",
       "    }\n",
       "</style>\n",
       "<table border=\"1\" class=\"dataframe\">\n",
       "  <thead>\n",
       "    <tr style=\"text-align: right;\">\n",
       "      <th></th>\n",
       "      <th>Latitude</th>\n",
       "      <th>Longitude</th>\n",
       "    </tr>\n",
       "  </thead>\n",
       "  <tbody>\n",
       "    <tr>\n",
       "      <th>0</th>\n",
       "      <td>43.806686</td>\n",
       "      <td>-79.194353</td>\n",
       "    </tr>\n",
       "    <tr>\n",
       "      <th>1</th>\n",
       "      <td>43.784535</td>\n",
       "      <td>-79.160497</td>\n",
       "    </tr>\n",
       "    <tr>\n",
       "      <th>2</th>\n",
       "      <td>43.763573</td>\n",
       "      <td>-79.188711</td>\n",
       "    </tr>\n",
       "    <tr>\n",
       "      <th>3</th>\n",
       "      <td>43.770992</td>\n",
       "      <td>-79.216917</td>\n",
       "    </tr>\n",
       "    <tr>\n",
       "      <th>4</th>\n",
       "      <td>43.773136</td>\n",
       "      <td>-79.239476</td>\n",
       "    </tr>\n",
       "  </tbody>\n",
       "</table>\n",
       "</div>"
      ],
      "text/plain": [
       "    Latitude  Longitude\n",
       "0  43.806686 -79.194353\n",
       "1  43.784535 -79.160497\n",
       "2  43.763573 -79.188711\n",
       "3  43.770992 -79.216917\n",
       "4  43.773136 -79.239476"
      ]
     },
     "execution_count": 31,
     "metadata": {},
     "output_type": "execute_result"
    }
   ],
   "source": [
    "long_lat.drop('Postal Code', axis= 1, inplace=True)\n",
    "long_lat.head()"
   ]
  },
  {
   "cell_type": "code",
   "execution_count": 32,
   "metadata": {},
   "outputs": [
    {
     "data": {
      "text/plain": [
       "(103, 2)"
      ]
     },
     "execution_count": 32,
     "metadata": {},
     "output_type": "execute_result"
    }
   ],
   "source": [
    "long_lat.shape"
   ]
  },
  {
   "cell_type": "code",
   "execution_count": 33,
   "metadata": {},
   "outputs": [
    {
     "data": {
      "text/plain": [
       "(103, 3)"
      ]
     },
     "execution_count": 33,
     "metadata": {},
     "output_type": "execute_result"
    }
   ],
   "source": [
    "df_toronto.shape"
   ]
  },
  {
   "cell_type": "code",
   "execution_count": 34,
   "metadata": {},
   "outputs": [
    {
     "data": {
      "text/html": [
       "<div>\n",
       "<style scoped>\n",
       "    .dataframe tbody tr th:only-of-type {\n",
       "        vertical-align: middle;\n",
       "    }\n",
       "\n",
       "    .dataframe tbody tr th {\n",
       "        vertical-align: top;\n",
       "    }\n",
       "\n",
       "    .dataframe thead th {\n",
       "        text-align: right;\n",
       "    }\n",
       "</style>\n",
       "<table border=\"1\" class=\"dataframe\">\n",
       "  <thead>\n",
       "    <tr style=\"text-align: right;\">\n",
       "      <th></th>\n",
       "      <th>PostalCode</th>\n",
       "      <th>Borough</th>\n",
       "      <th>Neighborhood</th>\n",
       "      <th>Latitude</th>\n",
       "      <th>Longitude</th>\n",
       "    </tr>\n",
       "  </thead>\n",
       "  <tbody>\n",
       "    <tr>\n",
       "      <th>0</th>\n",
       "      <td>M1B</td>\n",
       "      <td>Scarborough</td>\n",
       "      <td>Rouge,Malvern</td>\n",
       "      <td>43.806686</td>\n",
       "      <td>-79.194353</td>\n",
       "    </tr>\n",
       "    <tr>\n",
       "      <th>1</th>\n",
       "      <td>M1C</td>\n",
       "      <td>Scarborough</td>\n",
       "      <td>Highland Creek,Rouge Hill,Port Union</td>\n",
       "      <td>43.784535</td>\n",
       "      <td>-79.160497</td>\n",
       "    </tr>\n",
       "    <tr>\n",
       "      <th>2</th>\n",
       "      <td>M1E</td>\n",
       "      <td>Scarborough</td>\n",
       "      <td>Guildwood,Morningside,West Hill</td>\n",
       "      <td>43.763573</td>\n",
       "      <td>-79.188711</td>\n",
       "    </tr>\n",
       "    <tr>\n",
       "      <th>3</th>\n",
       "      <td>M1G</td>\n",
       "      <td>Scarborough</td>\n",
       "      <td>Woburn</td>\n",
       "      <td>43.770992</td>\n",
       "      <td>-79.216917</td>\n",
       "    </tr>\n",
       "    <tr>\n",
       "      <th>4</th>\n",
       "      <td>M1H</td>\n",
       "      <td>Scarborough</td>\n",
       "      <td>Cedarbrae</td>\n",
       "      <td>43.773136</td>\n",
       "      <td>-79.239476</td>\n",
       "    </tr>\n",
       "  </tbody>\n",
       "</table>\n",
       "</div>"
      ],
      "text/plain": [
       "  PostalCode      Borough                          Neighborhood   Latitude  \\\n",
       "0        M1B  Scarborough                         Rouge,Malvern  43.806686   \n",
       "1        M1C  Scarborough  Highland Creek,Rouge Hill,Port Union  43.784535   \n",
       "2        M1E  Scarborough       Guildwood,Morningside,West Hill  43.763573   \n",
       "3        M1G  Scarborough                                Woburn  43.770992   \n",
       "4        M1H  Scarborough                             Cedarbrae  43.773136   \n",
       "\n",
       "   Longitude  \n",
       "0 -79.194353  \n",
       "1 -79.160497  \n",
       "2 -79.188711  \n",
       "3 -79.216917  \n",
       "4 -79.239476  "
      ]
     },
     "execution_count": 34,
     "metadata": {},
     "output_type": "execute_result"
    }
   ],
   "source": [
    "df = pd.concat([df_toronto, long_lat], axis=1)\n",
    "df.head()"
   ]
  },
  {
   "cell_type": "code",
   "execution_count": 38,
   "metadata": {},
   "outputs": [
    {
     "data": {
      "text/plain": [
       "(103, 5)"
      ]
     },
     "execution_count": 38,
     "metadata": {},
     "output_type": "execute_result"
    }
   ],
   "source": [
    "df.shape"
   ]
  },
  {
   "cell_type": "code",
   "execution_count": null,
   "metadata": {},
   "outputs": [],
   "source": []
  }
 ],
 "metadata": {
  "kernelspec": {
   "display_name": "Python 3",
   "language": "python",
   "name": "python3"
  },
  "language_info": {
   "codemirror_mode": {
    "name": "ipython",
    "version": 3
   },
   "file_extension": ".py",
   "mimetype": "text/x-python",
   "name": "python",
   "nbconvert_exporter": "python",
   "pygments_lexer": "ipython3",
   "version": "3.7.3"
  }
 },
 "nbformat": 4,
 "nbformat_minor": 2
}
