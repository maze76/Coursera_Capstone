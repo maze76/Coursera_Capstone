{
 "cells": [
  {
   "cell_type": "markdown",
   "metadata": {},
   "source": [
    "# Berlin crime rate by district and Berlin foursquare venue clusters?\n",
    "<br>"
   ]
  },
  {
   "cell_type": "markdown",
   "metadata": {},
   "source": [
    "## Brief introduction to the project\n",
    "<br>\n",
    "\n",
    "Subject of this work will be to find out relation or even possible correlation betwen Berlin crime rate in each district and Berlin district clusters, created by machine learning clustering with K-means clustering algorithm of the venues returned by the foursquare API venues search. \n",
    "\n",
    "Idea is to find out what is the best place to live in Berlin from the standpoint of crime and from the standpoint of different venues that are categorized by the foursquare application. Ideally we would like to live as close as possible to the venues we have interest in (in my case for example theaters, music pubs possible with live music, and areas for leisure like parks) and also to choose district that is as safe as possible from the standpoint of crime.\n",
    "\n",
    "After clustering I would like to check venues I am personally interested in like theaters, live music pubs and green areas like parks. Maps for these venues will be created and compared with clusters map, crime rate values and locations of the venues I am interested in.\n",
    "\n",
    "I hope there are some interesting conclusion that could be found in this project."
   ]
  },
  {
   "cell_type": "code",
   "execution_count": null,
   "metadata": {},
   "outputs": [],
   "source": []
  }
 ],
 "metadata": {
  "kernelspec": {
   "display_name": "Python 3",
   "language": "python",
   "name": "python3"
  },
  "language_info": {
   "codemirror_mode": {
    "name": "ipython",
    "version": 3
   },
   "file_extension": ".py",
   "mimetype": "text/x-python",
   "name": "python",
   "nbconvert_exporter": "python",
   "pygments_lexer": "ipython3",
   "version": "3.7.3"
  }
 },
 "nbformat": 4,
 "nbformat_minor": 2
}
