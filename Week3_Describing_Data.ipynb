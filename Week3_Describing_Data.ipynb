{
 "cells": [
  {
   "cell_type": "markdown",
   "metadata": {},
   "source": [
    "## Describing the data that will be used in the project\n",
    "<br>\n",
    "\n",
    "\n",
    "First data that will be used is the excel table available on the web page of Berlin police <https://www.berlin.de/polizei/service/kriminalitaetsatlas/>. Table is not suitable for use directly in Python pandas manipulation so first we have to create table with the data that will be used in our project.\n",
    "\n",
    "There are 7 sheets with the crimes data by the district and areas of the district. Only total data for each disttict is used. From these 7 excel sheets for each year one total sheet 2012-2018 is created. That table is used in our analysis.\n",
    "\n",
    "Interesting columns that will be used are:\n",
    "\n",
    "* sum of crimes in the district (Sum of Straftaten -insgesamt-) as Total_sum\n",
    "* sum of body injures (Sum of Körper-verletzungen -insgesamt-) as Total_body_injuries\n",
    "* sum of house burglaries (Sum of Wohnraum -einbruch) as Total_thefts\n",
    "* sum of thefts (Sum of Diebstahl -insgesamt-) as Total_burglaries\n",
    "\n",
    "---\n",
    "\n",
    "Second data that is used is scrapped table from the wikipedia web page for Berlin districts. I wanted to check are name and number of the districts same as the number and names of the district in the excel table used for crime numbers and apart of that total population column is extracted from the same web page. \n",
    "\n",
    "Wikipedia web page from which second data is extracted is \n",
    "https://en.wikipedia.org/wiki/Boroughs_and_neighborhoods_of_Berlin\n",
    "\n",
    "---\n",
    "\n",
    "Third data information that will be used for the project are data from the foursqare venue search. This data are available with the special search that is created. Result of the search are venues in the areas that are searched. These venues are categorized by the name, type of the venue (bar, bus station, hotel etc) latitude, longitude and some other categories that we do not need.\n",
    "\n",
    "From this foursquare data clusters will be created with the help of machine learning algorithm K-means clustering.\n",
    "\n",
    "---\n",
    "\n",
    "Other data that will be used are particular search for the type of the venus I am interested in. Venues that will be searched are theater, pub (it is not possible to find pubs with the live music so search is just for pub) and green area or park. From maps that are created from this data we can see location of the venues we have interest in and visually compare location of this particular venues with the location of districts.\n",
    "<br>\n",
    "<br>\n",
    "<br>"
   ]
  },
  {
   "cell_type": "code",
   "execution_count": null,
   "metadata": {},
   "outputs": [],
   "source": []
  }
 ],
 "metadata": {
  "kernelspec": {
   "display_name": "Python 3",
   "language": "python",
   "name": "python3"
  },
  "language_info": {
   "codemirror_mode": {
    "name": "ipython",
    "version": 3
   },
   "file_extension": ".py",
   "mimetype": "text/x-python",
   "name": "python",
   "nbconvert_exporter": "python",
   "pygments_lexer": "ipython3",
   "version": "3.7.3"
  }
 },
 "nbformat": 4,
 "nbformat_minor": 2
}
